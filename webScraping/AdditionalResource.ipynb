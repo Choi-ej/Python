{
 "cells": [
  {
   "cell_type": "markdown",
   "metadata": {},
   "source": [
    "URL of website for additional information to the list of airports in Germany \n",
    "LINK  \n",
    "To retrieve further information for the list of airports in Germany, the above mentioned website was chosen. This website shows the ratings of civil airports in Germany.   \n",
    "The new information was stored in a dataframe which includes two different columns. The first column contains the airports and the second column contains the ratings of each airport. Because not every airport from the wikipedia list is a civil airport, that can be rated by passagiers, not every row is going to get a new information. \n",
    "To get access to the dataframes, they have to be save das cvs files. (df.to_csv()).   \n",
    "To check if it is allowed to utilise this data, the URL of the website with ‚/robots.txt‘ has to be checked, because this site specifies the directories which can and can’t be crawled.  \n",
    "Date of crawl: 28.02.2023"
   ]
  },
  {
   "cell_type": "code",
   "execution_count": 2,
   "metadata": {},
   "outputs": [
    {
     "name": "stdout",
     "output_type": "stream",
     "text": [
      "                      airport  rating\n",
      "0                    augsburg       4\n",
      "1          berlin brandenburg       3\n",
      "2                berlin tegel       4\n",
      "3           berlin schonefeld       1\n",
      "4      braunschweig-wolfsburg       0\n",
      "5                      bremen       4\n",
      "6                  wangerooge       0\n",
      "7             westerland sylt       3\n",
      "8                       weeze       4\n",
      "9               wilhelmshaven       0\n",
      "10                    hamburg       5\n",
      "11       hannover langenhagen       5\n",
      "12                   dortmund       3\n",
      "13                    dresden       4\n",
      "14  duesseldorf international       5\n",
      "15                 siegerland       0\n",
      "16      karlsruhe/baden baden       4\n",
      "17               cologne bonn       5\n",
      "18                       kiel       3\n",
      "19              leipzig/halle       5\n",
      "20          lübeck blankensee       4\n",
      "21              mannheim city       0\n",
      "22                  memmingen       3\n",
      "23        muenster osnabrueck       3\n",
      "24                     munich       5\n",
      "25                  nuremberg       4\n",
      "26        paderborn lippstadt       0\n",
      "27              rostock-laage       0\n",
      "28               saarbruecken       3\n",
      "29                  frankfurt       5\n",
      "30             frankfurt-hahn       4\n",
      "31            friedrichshafen       4\n",
      "32                heringsdorf       0\n",
      "33                 hof-plauen       3\n",
      "34               zweibruecken       3\n",
      "35                  stuttgart       5\n",
      "36                     erfurt       3\n"
     ]
    }
   ],
   "source": [
    "import requests\n",
    "from bs4 import BeautifulSoup\n",
    "import pandas as pd\n",
    "\n",
    "#create lists\n",
    "airport = []\n",
    "rating = []\n",
    "\n",
    "#download page\n",
    "url = 'https://airport.airlines-inform.com/germany/'\n",
    "page = requests.get(url)\n",
    "#get text part from html \n",
    "soup = BeautifulSoup(page.text, 'html.parser')\n",
    "\n",
    "airport_links = soup.find_all('a', class_='airlines')\n",
    "\n",
    "#loop through the links to get airport cities and ratings\n",
    "for link in airport_links:\n",
    "    airport_name = link.find('dt').text.lower()\n",
    "\n",
    "#append them to airport list \n",
    "    airport.append(airport_name)\n",
    "\n",
    "    stars = link.find('dd', class_='report-stars')\n",
    "\n",
    "#count the amount of stars pictures in html to get the ratings of each airport\n",
    "    num_stars = len(stars.find_all('img', src='/images/star-small.png')) if stars else 0\n",
    "\n",
    "#append them to rating list \n",
    "    rating.append(num_stars)\n",
    "\n",
    "#turn lists into df\n",
    "df1 = pd.DataFrame(airport, columns =['airport'])\n",
    "df2 = pd.DataFrame(rating, columns = ['rating'])\n",
    "\n",
    "#merge the df into one df \n",
    "df1 = pd.concat([df1, df2], axis=1, join='inner')\n",
    "\n",
    "print(df1)"
   ]
  },
  {
   "cell_type": "code",
   "execution_count": 3,
   "metadata": {},
   "outputs": [],
   "source": [
    "df1.to_csv('ratings.csv', index=False)"
   ]
  }
 ],
 "metadata": {
  "kernelspec": {
   "display_name": "Python 3 (ipykernel)",
   "language": "python",
   "name": "python3"
  },
  "language_info": {
   "codemirror_mode": {
    "name": "ipython",
    "version": 3
   },
   "file_extension": ".py",
   "mimetype": "text/x-python",
   "name": "python",
   "nbconvert_exporter": "python",
   "pygments_lexer": "ipython3",
   "version": "3.10.8"
  },
  "vscode": {
   "interpreter": {
    "hash": "b81ca482b9c5dcb01f66835dc98d92962c0b6cb19c8d2a376fe78d56c8804908"
   }
  }
 },
 "nbformat": 4,
 "nbformat_minor": 2
}
